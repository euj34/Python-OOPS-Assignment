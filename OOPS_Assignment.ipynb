{
  "nbformat": 4,
  "nbformat_minor": 0,
  "metadata": {
    "colab": {
      "provenance": []
    },
    "kernelspec": {
      "name": "python3",
      "display_name": "Python 3"
    },
    "language_info": {
      "name": "python"
    }
  },
  "cells": [
    {
      "cell_type": "markdown",
      "source": [
        "**1. What are the five key concepts of Object-Oriented Programming (OOP)?**"
      ],
      "metadata": {
        "id": "j3SrcC3FqQBu"
      }
    },
    {
      "cell_type": "markdown",
      "source": [
        "**Five Key Concepts of Object-Oriented Programming (OOP):**\n",
        "\n",
        "**1)Encapsulation:**\n",
        "\n",
        "Bundling data (attributes) and methods (functions) that operate on that data within a single unit called an object.\n",
        "This promotes information hiding, making the internal implementation details of an object private and accessible only through well-defined interfaces.\n",
        "\n",
        "\n",
        "\n",
        "**2)Inheritance:**\n",
        "\n",
        "Creating new classes (child classes or subclasses) based on existing ones (parent classes or superclasses).\n",
        "Subclasses inherit the attributes and methods of their parent classes, allowing for code reuse and the creation of hierarchical relationships between classes.\n",
        "\n",
        "**3)Polymorphism:**\n",
        "\n",
        "The ability of objects of different types to be treated as if they were objects of the same type.\n",
        "This is often achieved through method overriding and method overloading.\n",
        "Method overriding: Redefining a method in a subclass with the same name and signature as a method in its parent class.\n",
        "Method overloading: Defining multiple methods with the same name but different parameters in the same class.\n",
        "\n",
        "**4)Abstraction:**\n",
        "\n",
        "Focusing on the essential features of an object while hiding the unnecessary implementation details.\n",
        "Abstract classes and interfaces are key tools for abstraction in OOP.\n",
        "Abstract classes: Classes that cannot be instantiated directly but can be inherited from to create concrete classes.\n",
        "Interfaces: Contracts that define a set of methods that a class must implement.\n",
        "\n",
        "**5)Objects and Classes:**\n",
        "\n",
        "Objects: Instances of a class that represent real-world entities. They have their own state (attributes) and behavior (methods).\n",
        "Classes: Blueprints or templates for creating objects. They define the attributes and methods that objects of that class will have.\n",
        "\n",
        "\n"
      ],
      "metadata": {
        "id": "_mBRD-FEqQE6"
      }
    },
    {
      "cell_type": "markdown",
      "source": [
        "**2) Write a Python class for a `Car` with attributes for `make`, `model`, and `year`. Include a method to display\n",
        "the car's information.**"
      ],
      "metadata": {
        "id": "fuuaiAApB5e5"
      }
    },
    {
      "cell_type": "code",
      "source": [
        "class Car:\n",
        "    def __init__(self, make, model, year):\n",
        "        self.make = make\n",
        "        self.model = model\n",
        "        self.year = year\n",
        "\n",
        "    def display_info(self):\n",
        "        print(f\"Make: {self.make}\")\n",
        "        print(f\"Model: {self.model}\")\n",
        "        print(f\"Year: {self.year}\")\n",
        "my_car = Car(\"Toyota\", \"Camry\", 2023)\n",
        "my_car.display_info()"
      ],
      "metadata": {
        "colab": {
          "base_uri": "https://localhost:8080/"
        },
        "id": "04d-vZTDCOZt",
        "outputId": "72c8de29-a7cc-4cea-e84a-4fb6e1fba2d7"
      },
      "execution_count": 1,
      "outputs": [
        {
          "output_type": "stream",
          "name": "stdout",
          "text": [
            "Make: Toyota\n",
            "Model: Camry\n",
            "Year: 2023\n"
          ]
        }
      ]
    },
    {
      "cell_type": "markdown",
      "source": [
        "**3)Explain the difference between instance methods and class methods. Provide an example of each.**"
      ],
      "metadata": {
        "id": "E4O-B-sQCcMV"
      }
    },
    {
      "cell_type": "markdown",
      "source": [
        "**Instance methods:**\n",
        "\n",
        "Instance methods are associated with specific instances of a class.They can access and modify both instance attributes and class attributes.The first argument to an instance method is always the self reference, which represents the current instance."
      ],
      "metadata": {
        "id": "HflPe8qLCp8C"
      }
    },
    {
      "cell_type": "code",
      "source": [
        "class Car:\n",
        "    def __init__(self, make, model, year):\n",
        "        self.make = make\n",
        "        self.model = model\n",
        "        self.year = year\n",
        "\n",
        "    def display_info(self):\n",
        "        print(f\"Make: {self.make}\")\n",
        "        print(f\"Model: {self.model}\")\n",
        "        print(f\"Year: {self.year}\")\n",
        "my_car = Car(\"Toyota\", \"Camry\", 2023)\n",
        "my_car.display_info()"
      ],
      "metadata": {
        "colab": {
          "base_uri": "https://localhost:8080/"
        },
        "id": "TRJorq_bC2fG",
        "outputId": "e8715a7a-fc36-4c3e-b898-d152ac32c160"
      },
      "execution_count": 3,
      "outputs": [
        {
          "output_type": "stream",
          "name": "stdout",
          "text": [
            "Make: Toyota\n",
            "Model: Camry\n",
            "Year: 2023\n"
          ]
        }
      ]
    },
    {
      "cell_type": "markdown",
      "source": [
        "**Class methods:**\n",
        "\n",
        "Class methods are associated with the class itself, not with specific instances.They can access and modify class attributes but cannot access instance attributes directly.The first argument to a class method is the class itself, often conventionally named cls.\n"
      ],
      "metadata": {
        "id": "TMlHJdt5DHsu"
      }
    },
    {
      "cell_type": "code",
      "source": [
        "class Circle:\n",
        "    pi = 3.14159\n",
        "\n",
        "    def __init__(self, radius):\n",
        "        self.radius = radius\n",
        "\n",
        "    @classmethod\n",
        "    def area(cls, radius):\n",
        "        return cls.pi * radius * radius\n",
        "\n",
        "circle1 = Circle(5)\n",
        "print(Circle.area(3))"
      ],
      "metadata": {
        "colab": {
          "base_uri": "https://localhost:8080/"
        },
        "id": "XMjPHojqDq2I",
        "outputId": "103d2076-a58b-44b4-cad8-c596237faee8"
      },
      "execution_count": 6,
      "outputs": [
        {
          "output_type": "stream",
          "name": "stdout",
          "text": [
            "28.274309999999996\n"
          ]
        }
      ]
    },
    {
      "cell_type": "markdown",
      "source": [
        "**4) How does Python implement method overloading? Give an example.**"
      ],
      "metadata": {
        "id": "VOXCI9poDu6n"
      }
    },
    {
      "cell_type": "markdown",
      "source": [
        "Python does not directly support method overloading in the same way as languages like C++ or Java. However, it offers a flexible approach to achieve similar functionality by leveraging default arguments and variable-length argument lists (*args and **kwargs)."
      ],
      "metadata": {
        "id": "XufHrNtCEBEt"
      }
    },
    {
      "cell_type": "code",
      "source": [
        "def greet(name, greeting=\"Hello\"):\n",
        "    print(f\"{greeting}, {name}!\")\n",
        "greet(\"Alice\")\n",
        "greet(\"Bob\", \"Hi\")"
      ],
      "metadata": {
        "colab": {
          "base_uri": "https://localhost:8080/"
        },
        "id": "psZT7OX2EB5I",
        "outputId": "1a728547-0033-4997-cf86-72c00c2961f6"
      },
      "execution_count": 7,
      "outputs": [
        {
          "output_type": "stream",
          "name": "stdout",
          "text": [
            "Hello, Alice!\n",
            "Hi, Bob!\n"
          ]
        }
      ]
    },
    {
      "cell_type": "markdown",
      "source": [
        "**5)What are the three types of access modifiers in Python? How are they denoted?**"
      ],
      "metadata": {
        "id": "R8gZw62ZEK4i"
      }
    },
    {
      "cell_type": "markdown",
      "source": [
        "**1)Public Members:**\n",
        "\n",
        "These members are accessible from anywhere within the program, including outside the class.\n",
        "They are not explicitly denoted with any keyword."
      ],
      "metadata": {
        "id": "2_aHAG_LEWky"
      }
    },
    {
      "cell_type": "code",
      "source": [
        "class Car:\n",
        "    def __init__(self, make, model, year):\n",
        "        self.make = make\n",
        "        self.model = model\n",
        "        self.year = year\n",
        "my_car = Car(\"Toyota\", \"Camry\", 2023)\n",
        "print(my_car.make)"
      ],
      "metadata": {
        "colab": {
          "base_uri": "https://localhost:8080/"
        },
        "id": "IR8Yg8v0EwkC",
        "outputId": "8c15c6d2-9390-4d77-a0b9-d54c26496dac"
      },
      "execution_count": 9,
      "outputs": [
        {
          "output_type": "stream",
          "name": "stdout",
          "text": [
            "Toyota\n"
          ]
        }
      ]
    },
    {
      "cell_type": "markdown",
      "source": [
        "**2)Protected members:**\n",
        "\n",
        "These members are intended to be accessed within the class and its subclasses.\n",
        "They are denoted by a single underscore prefix (_)."
      ],
      "metadata": {
        "id": "aWPAFWEAE505"
      }
    },
    {
      "cell_type": "code",
      "source": [
        "class Vehicle:\n",
        "    def __init__(self, color):\n",
        "        self._color = color\n",
        "class Car(Vehicle):\n",
        "    def __init__(self, make, model, year, color):\n",
        "        super().__init__(color)\n",
        "        self.make = make\n",
        "        self.model = model\n",
        "        self.year = year\n",
        "\n",
        "    def paint(self, new_color):\n",
        "        self._color = new_color\n",
        "my_car = Car(\"Toyota\", \"Camry\", 2023, \"Blue\")\n",
        "my_car.paint(\"Red\")\n",
        "print(my_car._color)"
      ],
      "metadata": {
        "colab": {
          "base_uri": "https://localhost:8080/"
        },
        "id": "k8WHOk9QFLBd",
        "outputId": "4207c680-2c5c-4397-9a1b-0eeceecf111a"
      },
      "execution_count": 12,
      "outputs": [
        {
          "output_type": "stream",
          "name": "stdout",
          "text": [
            "Red\n"
          ]
        }
      ]
    },
    {
      "cell_type": "markdown",
      "source": [
        "**3)Private members:**\n",
        "These members are intended to be accessed only within the class itself.\n",
        "They are denoted by a double underscore prefix (__)."
      ],
      "metadata": {
        "id": "wV4CLvzgFbQI"
      }
    },
    {
      "cell_type": "code",
      "source": [
        "class BankAccount:\n",
        "    def __init__(self, account_number, balance):\n",
        "        self.__account_number = account_number\n",
        "        self.__balance = balance\n",
        "\n",
        "    def deposit(self, amount):\n",
        "        self.__balance += amount\n",
        "\n",
        "    def withdraw(self, amount):\n",
        "        if amount <= self.__balance:\n",
        "            self.__balance -= amount\n",
        "        else:\n",
        "            print(\"Insufficient balance\")\n",
        "\n",
        "    def get_balance(self):\n",
        "        return self.__balance\n",
        "\n",
        "my_account = BankAccount(12345, 1000)\n",
        "print(my_account.get_balance())"
      ],
      "metadata": {
        "colab": {
          "base_uri": "https://localhost:8080/"
        },
        "id": "EHfyiaAOF-JS",
        "outputId": "2c4a1d05-6888-4ea9-ddc4-5528e6d35937"
      },
      "execution_count": 14,
      "outputs": [
        {
          "output_type": "stream",
          "name": "stdout",
          "text": [
            "1000\n"
          ]
        }
      ]
    },
    {
      "cell_type": "markdown",
      "source": [
        "**6) Describe the five types of inheritance in Python. Provide a simple example of multiple inheritance**"
      ],
      "metadata": {
        "id": "YpiyhTCwGGND"
      }
    },
    {
      "cell_type": "markdown",
      "source": [
        "**Single Inheritance:**\n",
        "\n",
        "A class inherits from a single parent class.\n",
        "This is the most basic form of inheritance.\n",
        "\n",
        "**Multiple Inheritance:**\n",
        "\n",
        "A class inherits from multiple parent classes.\n",
        "This allows a class to inherit attributes and methods from multiple sources.\n",
        "\n",
        "**Multilevel Inheritance:**\n",
        "\n",
        "A class inherits from a derived class.\n",
        "This creates a hierarchical relationship between classes.\n",
        "\n",
        "**Hierarchical Inheritance:**\n",
        "\n",
        "Multiple classes inherit from a single parent class.\n",
        "This allows for the creation of multiple specialized classes from a common base class.\n",
        "\n",
        "**Hybrid Inheritance:**\n",
        "\n",
        "A combination of multiple inheritance types.\n",
        "This can lead to complex inheritance hierarchies and potential ambiguity issues."
      ],
      "metadata": {
        "id": "LyndkU0NGRFg"
      }
    },
    {
      "cell_type": "code",
      "source": [
        "class Vehicle:\n",
        "    def __init__(self, color):\n",
        "        self.color = color\n",
        "\n",
        "class Engine:\n",
        "    def __init__(self, engine_type):\n",
        "        self.engine_type = engine_type\n",
        "\n",
        "class Car(Vehicle, Engine):\n",
        "    def __init__(self, color, engine_type, make, model):\n",
        "        Vehicle.__init__(self, color)\n",
        "        Engine.__init__(self, engine_type)\n",
        "        self.make = make\n",
        "        self.model = model\n",
        "    def display_info(self):\n",
        "        print(f\"Color: {self.color}\")\n",
        "        print(f\"Engine Type: {self.engine_type}\")\n",
        "        print(f\"Make: {self.make}\")\n",
        "        print(f\"Model: {self.model}\")\n",
        "my_car = Car(\"Red\", \"Petrol\", \"Toyota\", \"Camry\")\n",
        "my_car.display_info()"
      ],
      "metadata": {
        "colab": {
          "base_uri": "https://localhost:8080/"
        },
        "id": "JKiZeA1hGglX",
        "outputId": "0e9387e9-3581-4427-ff77-ab6781b9c643"
      },
      "execution_count": 15,
      "outputs": [
        {
          "output_type": "stream",
          "name": "stdout",
          "text": [
            "Color: Red\n",
            "Engine Type: Petrol\n",
            "Make: Toyota\n",
            "Model: Camry\n"
          ]
        }
      ]
    },
    {
      "cell_type": "markdown",
      "source": [
        "**7)What is the Method Resolution Order (MRO) in Python? How can you retrieve it programmatically?**"
      ],
      "metadata": {
        "id": "mbqVIeKpGmSn"
      }
    },
    {
      "cell_type": "markdown",
      "source": [
        "**Method Resolution Order (MRO):**\n",
        "\n",
        "In Python, MRO defines the order in which methods are searched when a method call is made on an instance of a class. This is especially crucial in multiple inheritance scenarios to avoid ambiguity and ensure correct method resolution."
      ],
      "metadata": {
        "id": "LeYfXhelG0OX"
      }
    },
    {
      "cell_type": "code",
      "source": [
        "class A:\n",
        "    pass\n",
        "\n",
        "class B(A):\n",
        "    pass\n",
        "\n",
        "class C(A):\n",
        "    pass\n",
        "\n",
        "class D(B, C):\n",
        "    pass\n",
        "\n",
        "print(D.__mro__)"
      ],
      "metadata": {
        "colab": {
          "base_uri": "https://localhost:8080/"
        },
        "id": "gt_KiIYOG3Wv",
        "outputId": "926ef640-81e1-49a1-cb8c-75a825722208"
      },
      "execution_count": 16,
      "outputs": [
        {
          "output_type": "stream",
          "name": "stdout",
          "text": [
            "(<class '__main__.D'>, <class '__main__.B'>, <class '__main__.C'>, <class '__main__.A'>, <class 'object'>)\n"
          ]
        }
      ]
    },
    {
      "cell_type": "markdown",
      "source": [
        "**8)Create an abstract base class `Shape` with an abstract method `area()`. Then create two subclasses\n",
        "`Circle` and `Rectangle` that implement the `area()` method.**"
      ],
      "metadata": {
        "id": "Sn054EFSG_N1"
      }
    },
    {
      "cell_type": "code",
      "source": [
        "from abc import ABC, abstractmethod\n",
        "class Shape(ABC):\n",
        "    @abstractmethod\n",
        "    def area(self):\n",
        "        pass\n",
        "class Circle(Shape):\n",
        "    def __init__(self, radius):\n",
        "        self.radius = radius\n",
        "    def area(self):\n",
        "        return 3.14159 * self.radius * self.radius\n",
        "class Rectangle(Shape):\n",
        "    def __init__(self, length, width):\n",
        "        self.length = length\n",
        "        self.width = width\n",
        "    def area(self):\n",
        "        return self.length * self.width\n",
        "circle = Circle(5)\n",
        "rectangle = Rectangle(4, 6)\n",
        "print(\"Area of circle:\", circle.area())\n",
        "print(\"Area of rectangle:\", rectangle.area())"
      ],
      "metadata": {
        "colab": {
          "base_uri": "https://localhost:8080/"
        },
        "id": "LRxHLoXNHM7i",
        "outputId": "b4c871bc-01bd-4ecc-9970-1af73a35bd5f"
      },
      "execution_count": 18,
      "outputs": [
        {
          "output_type": "stream",
          "name": "stdout",
          "text": [
            "Area of circle: 78.53975\n",
            "Area of rectangle: 24\n"
          ]
        }
      ]
    },
    {
      "cell_type": "markdown",
      "source": [
        "**9)Demonstrate polymorphism by creating a function that can work with different shape objects to calculate\n",
        "and print their areas.**"
      ],
      "metadata": {
        "id": "unpOjvmnHZHE"
      }
    },
    {
      "cell_type": "code",
      "source": [
        "from abc import ABC, abstractmethod\n",
        "\n",
        "class Shape(ABC):\n",
        "    @abstractmethod\n",
        "    def area(self):\n",
        "        pass\n",
        "\n",
        "class Circle(Shape):\n",
        "    def __init__(self, radius):\n",
        "        self.radius = radius\n",
        "\n",
        "    def area(self):\n",
        "        return 3.14159 * self.radius * self.radius\n",
        "\n",
        "class Rectangle(Shape):\n",
        "    def __init__(self, length, width):\n",
        "        self.length = length\n",
        "        self.width = width\n",
        "\n",
        "    def area(self):\n",
        "        return self.length * self.width\n",
        "\n",
        "def calculate_and_print_area(shape):\n",
        "    print(\"Area:\", shape.area())\n",
        "\n",
        "circle = Circle(5)\n",
        "rectangle = Rectangle(4, 6)\n",
        "\n",
        "\n",
        "calculate_and_print_area(circle)\n",
        "calculate_and_print_area(rectangle)"
      ],
      "metadata": {
        "colab": {
          "base_uri": "https://localhost:8080/"
        },
        "id": "IvPVY_u4Hkvo",
        "outputId": "b7f2c8e2-33b0-4c25-abcd-091f5917c822"
      },
      "execution_count": 19,
      "outputs": [
        {
          "output_type": "stream",
          "name": "stdout",
          "text": [
            "Area: 78.53975\n",
            "Area: 24\n"
          ]
        }
      ]
    },
    {
      "cell_type": "markdown",
      "source": [
        "**10) Implement encapsulation in a `BankAccount` class with private attributes for `balance` and\n",
        "`account_number`. Include methods for deposit, withdrawal, and balance inquiry.**"
      ],
      "metadata": {
        "id": "SAN1g6mmHpuY"
      }
    },
    {
      "cell_type": "code",
      "source": [
        "class BankAccount:\n",
        "    def __init__(self, account_number, initial_balance):\n",
        "        self.__account_number = account_number\n",
        "        self.__balance = initial_balance\n",
        "\n",
        "    def deposit(self, amount):\n",
        "        if amount > 0:\n",
        "            self.__balance += amount\n",
        "            print(f\"Deposited {amount}. New balance: {self.__balance}\")\n",
        "        else:\n",
        "            print(\"Invalid deposit amount.\")\n",
        "\n",
        "    def withdraw(self, amount):\n",
        "        if 0 < amount <= self.__balance:\n",
        "            self.__balance -= amount\n",
        "            print(f\"Withdrew {amount}. New balance: {self.__balance}\")\n",
        "        elif amount > self.__balance:\n",
        "            print(\"Insufficient balance.\")\n",
        "        else:\n",
        "            print(\"Invalid withdrawal amount.\")\n",
        "\n",
        "    def check_balance(self):\n",
        "        print(f\"Your current balance is: {self.__balance}\")\n",
        "\n",
        "account = BankAccount(\"12345\", 1000)\n",
        "account.deposit(500)\n",
        "account.withdraw(200)\n",
        "account.check_balance()"
      ],
      "metadata": {
        "colab": {
          "base_uri": "https://localhost:8080/"
        },
        "id": "tXYc4-8eHwjM",
        "outputId": "f0fe6cb4-215c-4c54-dac0-79c33ba3b0d9"
      },
      "execution_count": 20,
      "outputs": [
        {
          "output_type": "stream",
          "name": "stdout",
          "text": [
            "Deposited 500. New balance: 1500\n",
            "Withdrew 200. New balance: 1300\n",
            "Your current balance is: 1300\n"
          ]
        }
      ]
    },
    {
      "cell_type": "markdown",
      "source": [
        "**11) Write a class that overrides the `__str__` and `__add__` magic methods. What will these methods allow\n",
        "you to do?**"
      ],
      "metadata": {
        "id": "3gPczhwwH2xT"
      }
    },
    {
      "cell_type": "code",
      "source": [
        "class Person:\n",
        "    def __init__(self, name, age):\n",
        "        self.name = name\n",
        "        self.age = age\n",
        "\n",
        "    def __str__(self):\n",
        "        return f\"Person: {self.name}, Age: {self.age}\"\n",
        "\n",
        "    def __add__(self, other):\n",
        "        return Person(self.name + \" and \" + other.name, self.age + other.age)\n",
        "\n",
        "person1 = Person(\"Alice\", 30)\n",
        "person2 = Person(\"Bob\", 25)\n",
        "print(person1)\n",
        "print(person2)\n",
        "combined_person = person1 + person2\n",
        "print(combined_person)"
      ],
      "metadata": {
        "colab": {
          "base_uri": "https://localhost:8080/"
        },
        "id": "E41Uw2eSH_1_",
        "outputId": "2bcd1ab3-db6a-4948-d106-c4763fe08401"
      },
      "execution_count": 22,
      "outputs": [
        {
          "output_type": "stream",
          "name": "stdout",
          "text": [
            "Person: Alice, Age: 30\n",
            "Person: Bob, Age: 25\n",
            "Person: Alice and Bob, Age: 55\n"
          ]
        }
      ]
    },
    {
      "cell_type": "markdown",
      "source": [
        "**12)Create a decorator that measures and prints the execution time of a function.**"
      ],
      "metadata": {
        "id": "P0sa5pyZIJAn"
      }
    },
    {
      "cell_type": "code",
      "source": [
        "import time\n",
        "\n",
        "def measure_time(func):\n",
        "    def wrapper(*args, **kwargs):\n",
        "        start_time = time.time()\n",
        "        result = func(*args, **kwargs)\n",
        "        end_time = time.time()\n",
        "        execution_time = end_time - start_time\n",
        "        print(f\"Execution time of {func.__name__}: {execution_time:.4f} seconds\")\n",
        "        return result\n",
        "    return wrapper\n",
        "\n",
        "@measure_time\n",
        "def my_function():\n",
        "    # Some time-consuming task\n",
        "    for _ in range(1000000):\n",
        "        pass\n",
        "\n",
        "my_function()\n",
        "my_function = measure_time(my_function)"
      ],
      "metadata": {
        "colab": {
          "base_uri": "https://localhost:8080/"
        },
        "id": "Ii2qo67WISoP",
        "outputId": "76898fa6-ad7b-4579-997e-512b7d208f0c"
      },
      "execution_count": 24,
      "outputs": [
        {
          "output_type": "stream",
          "name": "stdout",
          "text": [
            "Execution time of my_function: 0.0411 seconds\n"
          ]
        }
      ]
    },
    {
      "cell_type": "markdown",
      "source": [
        "**13) Explain the concept of the Diamond Problem in multiple inheritance. How does Python resolve it?**"
      ],
      "metadata": {
        "id": "WTCUfVx1IgXo"
      }
    },
    {
      "cell_type": "markdown",
      "source": [
        "The Diamond Problem arises in multiple inheritance when a class inherits from two or more parent classes, and those parent classes, in turn, inherit from a common ancestor. This creates a diamond-shaped inheritance hierarchy.\n",
        "\n",
        "**The Problem:**\n",
        "\n",
        "If both parent classes have a method with the same name, it becomes ambiguous which method should be inherited by the child class. This can lead to unpredictable behavior and potential errors.\n",
        "\n",
        "**Python's Resolution: Method Resolution Order (MRO):**\n",
        "\n",
        "Python uses the C3 Linearization algorithm to determine the Method Resolution Order (MRO) of a class. This algorithm ensures that the MRO is:\n",
        "\n",
        "**Consistent:** The same MRO is determined for a class regardless of the order of inheritance.\n",
        "**Intuitive:** The MRO generally follows the order of inheritance specified in the class definition.\n",
        "**Efficient:** The algorithm is efficient, especially for complex inheritance hierarchies.\n",
        "\n",
        "**How Python Resolves the Diamond Problem**:\n",
        "\n",
        "Python's MRO algorithm prioritizes the method from the class that appears first in the MRO. This means that if a method is defined in both parent classes, the method from the class that is closer to the child class in the MRO will be inherited."
      ],
      "metadata": {
        "id": "2pKO3t9dIzZ1"
      }
    },
    {
      "cell_type": "code",
      "source": [
        "class A:\n",
        "    def foo(self):\n",
        "        print(\"A\")\n",
        "\n",
        "class B(A):\n",
        "    pass\n",
        "\n",
        "class C(A):\n",
        "    def foo(self):\n",
        "        print(\"C\")\n",
        "\n",
        "class D(B, C):\n",
        "    pass\n",
        "\n",
        "d = D()\n",
        "d.foo()"
      ],
      "metadata": {
        "colab": {
          "base_uri": "https://localhost:8080/"
        },
        "id": "nqUBBaJXJEh8",
        "outputId": "79831ae5-d3d9-406d-9699-f4fc1ccc7eaa"
      },
      "execution_count": 25,
      "outputs": [
        {
          "output_type": "stream",
          "name": "stdout",
          "text": [
            "C\n"
          ]
        }
      ]
    },
    {
      "cell_type": "markdown",
      "source": [
        "**14)Write a class method that keeps track of the number of instances created from a class.**"
      ],
      "metadata": {
        "id": "JU4GhnP_JIV3"
      }
    },
    {
      "cell_type": "code",
      "source": [
        "class MyClass:\n",
        "    count = 0\n",
        "    def __init__(self):\n",
        "        MyClass.count += 1\n",
        "    @classmethod\n",
        "    def get_instance_count(cls):\n",
        "        return cls.count\n",
        "obj1 = MyClass()\n",
        "obj2 = MyClass()\n",
        "obj3 = MyClass()\n",
        "print(MyClass.get_instance_count())"
      ],
      "metadata": {
        "colab": {
          "base_uri": "https://localhost:8080/"
        },
        "id": "-hxc0pvLJPLK",
        "outputId": "330e1cad-eace-4539-8d2d-1c715b8bd3e4"
      },
      "execution_count": 27,
      "outputs": [
        {
          "output_type": "stream",
          "name": "stdout",
          "text": [
            "3\n"
          ]
        }
      ]
    },
    {
      "cell_type": "markdown",
      "source": [
        "**15) Implement a static method in a class that checks if a given year is a leap year.**"
      ],
      "metadata": {
        "id": "6_uUpKjbJVyM"
      }
    },
    {
      "cell_type": "code",
      "source": [
        "class YearChecker:\n",
        "    @staticmethod\n",
        "    def is_leap_year(year):\n",
        "        if (year % 4 == 0) and (year % 100 != 0) or (year % 400 == 0):\n",
        "            return True\n",
        "        else:\n",
        "            return False\n",
        "year = 2024\n",
        "if YearChecker.is_leap_year(year):\n",
        "    print(year, \"is a leap year\")\n",
        "else:\n",
        "    print(year, \"is not a leap year\")"
      ],
      "metadata": {
        "colab": {
          "base_uri": "https://localhost:8080/"
        },
        "id": "5ZImGJOPJc8Y",
        "outputId": "b576b799-77e1-4258-9ca7-8b7d8d86e656"
      },
      "execution_count": 28,
      "outputs": [
        {
          "output_type": "stream",
          "name": "stdout",
          "text": [
            "2024 is a leap year\n"
          ]
        }
      ]
    }
  ]
}